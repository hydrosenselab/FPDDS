{
 "cells": [
  {
   "cell_type": "code",
   "execution_count": 5,
   "metadata": {},
   "outputs": [],
   "source": [
    "from dask_jobqueue import PBSCluster\n",
    "from dask.distributed import Client,progress\n",
    "from dask import delayed\n",
    "from dask import compute\n",
    "from dask.diagnostics import*\n",
    "import dask\n",
    "import numpy as np\n",
    "import pandas as pd\n",
    "from tqdm import tqdm\n",
    "# import geopandas as gpd\n",
    "import matplotlib.pyplot as plt\n",
    "import matplotlib.dates as mdates\n",
    "# from mpl_toolkits.basemap import Basemap\n",
    "import seaborn as sns\n",
    "import matplotlib.dates as mdates\n",
    "from reportlab.pdfgen import canvas\n",
    "from reportlab.lib.pagesizes import A4\n",
    "from reportlab.lib.pagesizes import portrait\n",
    "from reportlab.platypus import Image\n",
    "from reportlab.platypus import Table\n",
    "from reportlab.lib import colors\n",
    "import os, sys, glob\n",
    "module_path = os.path.abspath(os.path.join('..'))\n",
    "if module_path not in sys.path:\n",
    "    sys.path.append(module_path)\n",
    "import config \n",
    "import warnings\n",
    "warnings.filterwarnings('ignore')\n",
    "\n",
    "# from objectives import pbias,nashsutcliffe,kge,rmse,correlationcoefficient,mae"
   ]
  },
  {
   "cell_type": "code",
   "execution_count": 6,
   "metadata": {},
   "outputs": [],
   "source": [
    "# Load pre-requisite data\n",
    "stations_list = pd.read_csv('../LIS_Data/EXP002/valid_stations_list.csv')\n",
    "meta_file = pd.read_csv('../LIS_Data/EXP002/gaugemetadata.csv')\n",
    "meta_file.reset_index(drop = True,inplace=True)\n",
    "meta_file.set_index('GaugeID',inplace=True)\n",
    "obj_fn = [config.pbias,config.nashsutcliffe,config.kge,\n",
    "          config.rmse,config.correlationcoefficient,config.mae,config.rrmse]\n",
    "obj_fn_names = ['PBIAS','NSE','KGE','RMSE','CORR','MAE','MAPE']\n",
    "error_columns = ['GaugeID','Latitude','Longitude','PBIAS','NSE','KGE','RMSE','CORR','MAE','RRMSE','obs_avg','sim_avg','MAPE']\n",
    "error_df = pd.DataFrame(columns = error_columns).set_index('GaugeID')"
   ]
  },
  {
   "cell_type": "code",
   "execution_count": 7,
   "metadata": {},
   "outputs": [
    {
     "name": "stderr",
     "output_type": "stream",
     "text": [
      "100%|██████████| 284/284 [00:34<00:00,  8.12it/s]\n"
     ]
    }
   ],
   "source": [
    "#Create list of all gauge stations with NaNs dropped and export to CSVs(if needed).\n",
    "stations = []\n",
    "monsoon_months = [10,11,12]\n",
    "for i in tqdm(range(0,len(stations_list))):\n",
    "    key = stations_list.loc[i,'stations']\n",
    "    station = pd.read_csv('../LIS_Data/EXP002/'+key+'-merged.csv')\n",
    "    station.set_index('Date',inplace=True)\n",
    "    station.index = pd.to_datetime(station.index)\n",
    "    station.dropna(inplace=True)\n",
    "    station = station[station.index.map(lambda t: t.month in monsoon_months)]\n",
    "    stations.append(station)\n",
    "# for k in tqdm(range(0,len(stations_list))):\n",
    "#     key = stations_list.loc[k,'stations']\n",
    "#     stations[k].to_csv('../../final_results/IWM-Validation-EXP002/rawdata/gaugestreamflow/merged/ne_monsoon/'+key+'_ne_monsoon.csv')"
   ]
  },
  {
   "cell_type": "code",
   "execution_count": 4,
   "metadata": {},
   "outputs": [
    {
     "data": {
      "text/plain": [
       "168.76398244917473"
      ]
     },
     "execution_count": 4,
     "metadata": {},
     "output_type": "execute_result"
    }
   ],
   "source": [
    "obs_flow = stations[0]['Streamflow (cumecs)']\n",
    "sim_flow = stations[0]['Streamflow_tavg']\n",
    "obs, sim = np.array(obs_flow), np.array(sim_flow)\n",
    "nmae = config.nmae(obs,sim)\n",
    "nmae"
   ]
  },
  {
   "cell_type": "code",
   "execution_count": 8,
   "metadata": {},
   "outputs": [
    {
     "name": "stderr",
     "output_type": "stream",
     "text": [
      " 35%|███▍      | 98/284 [00:01<00:02, 92.11it/s]"
     ]
    },
    {
     "name": "stdout",
     "output_type": "stream",
     "text": [
      "'Streamflow (cumecs)'\n"
     ]
    },
    {
     "name": "stderr",
     "output_type": "stream",
     "text": [
      " 49%|████▊     | 138/284 [00:01<00:01, 93.42it/s]"
     ]
    },
    {
     "name": "stdout",
     "output_type": "stream",
     "text": [
      "float division by zero\n"
     ]
    },
    {
     "name": "stderr",
     "output_type": "stream",
     "text": [
      "100%|██████████| 284/284 [00:03<00:00, 92.02it/s]\n"
     ]
    }
   ],
   "source": [
    "new_row = [None]*len(stations)\n",
    "for i in tqdm (range(0,len(stations))):\n",
    "    try:\n",
    "        obs_flow = stations[i]['Streamflow (cumecs)']\n",
    "        sim_flow = stations[i]['Streamflow_tavg']\n",
    "        meta_key = stations_list.loc[i,'stations']\n",
    "        s_info= {'lat':meta_file.at[meta_key,'Latitude'],\n",
    "                'lon':meta_file.at[meta_key,'Longitude'],\n",
    "                'name':str(meta_file.at[meta_key,'Name']),\n",
    "                'basin':str(meta_file.at[meta_key,'Basin']),\n",
    "                'state':str(meta_file.at[meta_key,'State'])}\n",
    "        error_columns = ['GaugeID','Latitude','Longitude','PBIAS','NSE','KGE','CORR','Alpha','Beta','RMSE','MAE','RRMSE','obs_avg','sim_avg','NMAE']\n",
    "        error_df = pd.DataFrame(columns = error_columns).set_index('GaugeID')\n",
    "        new_row[i]= pd.DataFrame ([[meta_key,s_info['lat'],s_info['lon'],\n",
    "                                    round(config.pbias(obs_flow,sim_flow),3),\n",
    "                                    round(config.nashsutcliffe(obs_flow,sim_flow),3),\n",
    "                                    round(config.kge(obs_flow,sim_flow,return_all=\"True\")[0],3),\n",
    "                                    round(config.kge(obs_flow,sim_flow,return_all=\"True\")[1],3),\n",
    "                                    round(config.kge(obs_flow,sim_flow,return_all=\"True\")[2],3),\n",
    "                                    round(config.kge(obs_flow,sim_flow,return_all=\"True\")[3],3),\n",
    "                                    round(config.rmse(obs_flow,sim_flow),3),\n",
    "                                    round(config.mae(obs_flow,sim_flow),3),\n",
    "                                    round(config.rrmse(obs_flow,sim_flow),3),\n",
    "                                    round(obs_flow.mean(),3),\n",
    "                                    round(sim_flow.mean(),3),\n",
    "                                    round(config.nmae(obs_flow,sim_flow),3)]],\n",
    "                                    columns=(['GaugeID','Latitude','Longitude','PBIAS','NSE','KGE','CORR','Alpha','Beta','RMSE','MAE','RRMSE','obs_avg','sim_avg','NMAE'])).set_index('GaugeID')\n",
    "        #Create the main plot ##\n",
    "#         fig, axes = plt.subplots(ncols=1, nrows=6, figsize=(9,14), tight_layout=True)\n",
    "#         myFmt = mdates.DateFormatter('%b-%y')\n",
    "#         stations[i]['TotalPrecip_tavg'].plot(ax=axes[0])\n",
    "#         axes[0].set_title('')\n",
    "#         axes[0].xaxis.set_major_formatter(mdates.DateFormatter('%b-%y'))\n",
    "#         axes[0].set_ylabel('Precipitation \\n(kgm-2s-1)',rotation='vertical')\n",
    "#         axes[0].yaxis.set_label_coords(-0.11, 0.5)   \n",
    "#         axes[0].tick_params('x', labelrotation=0)\n",
    "#         stations[i]['Evap_tavg'].plot(ax=axes[1])\n",
    "#         axes[1].set_title('')\n",
    "#         axes[1].xaxis.set_major_formatter(mdates.DateFormatter('%b-%y'))\n",
    "#         axes[1].set_ylabel('Evapotranspiration \\n(kgm-2s-1)',rotation='vertical')\n",
    "#         axes[1].yaxis.set_label_coords(-0.11, 0.5)   \n",
    "#         axes[1].tick_params('x', labelrotation=0)\n",
    "#         stations[i]['SM_L1'].plot(ax=axes[2],label='Layer 1')\n",
    "#         stations[i]['SM_L2'].plot(ax=axes[2],label='Layer 2')\n",
    "#         stations[i]['SM_L3'].plot(ax=axes[2],label='Layer 3')\n",
    "#         stations[i]['SM_L4'].plot(ax=axes[2],label='Layer 4')\n",
    "#         axes[2].set_title('')\n",
    "#         axes[2].legend(loc=\"upper right\")\n",
    "#         axes[2].xaxis.set_major_formatter(mdates.DateFormatter('%b-%y'))\n",
    "#         axes[2].set_ylabel('Soil Moisture \\n(kg m-2)',rotation='vertical')\n",
    "#         axes[2].yaxis.set_label_coords(-0.11, 0.5)   \n",
    "#         axes[2].tick_params('x', labelrotation=0)\n",
    "#         stations[i]['RiverDepth_tavg'].plot(ax=axes[3])\n",
    "#         axes[3].set_title('')\n",
    "#         axes[3].xaxis.set_major_formatter(mdates.DateFormatter('%b-%y'))\n",
    "#         axes[3].set_ylabel('River Depth \\n (m)',rotation='vertical')\n",
    "#         axes[3].yaxis.set_label_coords(-0.11, 0.5)   \n",
    "#         axes[3].tick_params('x', labelrotation=0)\n",
    "#         stations[i]['SWS_tavg'].plot(ax=axes[4])\n",
    "#         axes[4].set_title('')\n",
    "#         axes[4].xaxis.set_major_formatter(mdates.DateFormatter('%b-%y'))\n",
    "#         axes[4].set_ylabel('Surface Water Storage \\n(mm))',rotation='vertical')\n",
    "#         axes[4].yaxis.set_label_coords(-0.11, 0.5)   \n",
    "#         axes[4].tick_params('x', labelrotation=0)\n",
    "#         stations[i]['Streamflow_tavg'].plot(ax=axes[5],label='Simulated')\n",
    "#         stations[i]['Streamflow (cumecs)'].plot(ax=axes[5],label='Observed')\n",
    "#         axes[5].set_title('')\n",
    "#         axes[5].xaxis.set_major_formatter(mdates.DateFormatter('%b-%y'))\n",
    "#         axes[5].legend(loc=\"upper right\")\n",
    "#         axes[5].set_ylabel('Streamflow \\n (m3s-1)',rotation='vertical')\n",
    "#         axes[5].yaxis.set_label_coords(-0.11, 0.5)   \n",
    "#         axes[5].tick_params('x', labelrotation=0)\n",
    "#         plt.savefig('../figures/gaugestreamflow/'+meta_key+'_main.png',dpi = 300)\n",
    "#         plt.close()\n",
    "#         ##Create the scatter plot ##\n",
    "#         plt.figure(figsize=(6,5))\n",
    "#         ax = sns.regplot(x=stations[i]['Streamflow (cumecs)'], y=stations[i]['Streamflow_tavg'])\n",
    "#         ax.set_title(\"Streamflow (m3s-1)\")\n",
    "#         plt.xlabel(\"Observed\")\n",
    "#         plt.ylabel(\"Simulated\")\n",
    "#         fig_s = ax.get_figure()\n",
    "#         fig_s.savefig('../figures/gaugestreamflow/'+meta_key+'_scatter.png',dpi=300)\n",
    "#         plt.close()\n",
    "#         # Create png for error metrics ##\n",
    "#         fig_tab, ax_tab = plt.subplots()\n",
    "#         fig_tab.patch.set_visible(False)\n",
    "#         ax_tab.axis('off')\n",
    "#         ax_tab.axis('tight')\n",
    "#         table = ax_tab.table(cellText=obj_pd.values, colLabels=obj_pd.columns, loc='center',cellLoc='center')\n",
    "#         table.scale(1,2)\n",
    "#         table.set_fontsize(14)\n",
    "#         fig_tab.tight_layout()\n",
    "#         plt.savefig('../figures/gaugestreamflow/'+meta_key+'_error.png',dpi=300)\n",
    "#         plt.close()\n",
    "#         ## Create station wise pdf composite report(merging to be done externally using PDFSam) ## \n",
    "#         c = canvas.Canvas('../reports/gaugestreamflow/'+meta_key+'.pdf',pagesize=portrait(A4))\n",
    "#         c.drawCentredString(300,750,\"Validation of LIS simulations in \" + meta_key + \" (\" + str(s_info['name']) + \", \" + str(s_info['state'])+ \")\")\n",
    "#         mainfig = '../figures/gaugestreamflow/'+ meta_key + '_main.png'\n",
    "#         tablefig = '../figures/gaugestreamflow/'+ meta_key + '_error.png'\n",
    "#         scatterfig='../figures/gaugestreamflow/'+ meta_key + '_scatter.png'\n",
    "#         c.drawImage(mainfig,50,100,width=300,height=600)\n",
    "#         c.drawImage(scatterfig,350,505,width = 210, height = 210)\n",
    "#         c.drawImage(tablefig,375,280,width = 175 , height=173)\n",
    "#         c.drawCentredString(460,440,\"Error Metrics\")\n",
    "#         c.line(50,800,550,800)\n",
    "#         c.line(50,50,550,50)\n",
    "#         c.showPage()\n",
    "#         c.save()\n",
    "    except Exception as e:\n",
    "        print(str(e))\n",
    "        continue"
   ]
  },
  {
   "cell_type": "code",
   "execution_count": 10,
   "metadata": {},
   "outputs": [],
   "source": [
    "for i in range(0,len(new_row)):\n",
    "    error_df = error_df.append(new_row[i]) \n",
    "error_df.to_csv('../../final_results/IWM-Validation-EXP002/rawdata/gaugestreamflow/merged/ne_monsoon/error_metrics.csv')"
   ]
  },
  {
   "cell_type": "code",
   "execution_count": null,
   "metadata": {},
   "outputs": [],
   "source": []
  }
 ],
 "metadata": {
  "kernelspec": {
   "display_name": "Python 3",
   "language": "python",
   "name": "python3"
  },
  "language_info": {
   "codemirror_mode": {
    "name": "ipython",
    "version": 3
   },
   "file_extension": ".py",
   "mimetype": "text/x-python",
   "name": "python",
   "nbconvert_exporter": "python",
   "pygments_lexer": "ipython3",
   "version": "3.8.3"
  },
  "nteract": {
   "version": "0.21.0"
  }
 },
 "nbformat": 4,
 "nbformat_minor": 4
}
