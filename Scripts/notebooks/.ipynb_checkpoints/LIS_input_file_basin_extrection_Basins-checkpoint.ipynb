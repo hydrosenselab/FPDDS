{
 "cells": [
  {
   "cell_type": "code",
   "execution_count": 1,
   "id": "906d1708",
   "metadata": {},
   "outputs": [
    {
     "name": "stderr",
     "output_type": "stream",
     "text": [
      "/home/civil/phd/cez218606/anaconda3/envs/geo_env/lib/python3.10/site-packages/dask_jobqueue/core.py:20: FutureWarning: tmpfile is deprecated and will be removed in a future release. Please use dask.utils.tmpfile instead.\n",
      "  from distributed.utils import tmpfile\n"
     ]
    }
   ],
   "source": [
    "## Data handlers\n",
    "from dask_jobqueue import *\n",
    "from dask.distributed import *\n",
    "import xarray as xr\n",
    "import numpy as np\n",
    "import pandas as pd\n",
    "import datetime\n",
    "import netCDF4 \n",
    "from dask import delayed\n",
    "from dask import compute\n",
    "from dask.diagnostics import*\n",
    "from tqdm import tqdm\n",
    "import dask\n",
    "## Plots\n",
    "import matplotlib.pyplot as plt\n",
    "import matplotlib.dates as mdates\n",
    "import matplotlib.mlab as mlab\n",
    "import matplotlib.colors as mcl\n",
    "from mpl_toolkits import axes_grid1\n",
    "import seaborn as sns\n",
    "import matplotlib.dates as mdates\n",
    "import geopandas\n",
    "import rioxarray\n",
    "from shapely.geometry import mapping\n",
    "## Global config\n",
    "import os, sys, glob\n",
    "module_path = os.path.abspath(os.path.join('..'))\n",
    "if module_path not in sys.path:\n",
    "    sys.path.append(module_path)\n",
    "import config \n",
    "import gc\n",
    "import warnings\n",
    "warnings.filterwarnings('ignore')\n"
   ]
  },
  {
   "cell_type": "code",
   "execution_count": 2,
   "id": "2edd4add",
   "metadata": {},
   "outputs": [],
   "source": [
    "basin_files = ['Bhahmani','Brahmaputra','Brahmaputra_trans','Cauvery','east_flowing_mahanadi_pennar','east_flowing_pennar_kanyakumari',\n",
    "              'Ganga','Godavari','Indus','Krishna','Mahanadi','Mahi',\n",
    "              'Narmada','penanr','Sabermati','Subrnarekha','Tapi','West_flowing','West_flowing_Kachh_sabermati']"
   ]
  },
  {
   "cell_type": "code",
   "execution_count": 7,
   "id": "8dd17d9f",
   "metadata": {},
   "outputs": [
    {
     "name": "stdout",
     "output_type": "stream",
     "text": [
      "Bhahmani\n",
      "Brahmaputra\n",
      "Brahmaputra_trans\n",
      "Cauvery\n",
      "east_flowing_mahanadi_pennar\n",
      "east_flowing_pennar_kanyakumari\n",
      "Ganga\n",
      "Godavari\n",
      "Indus\n",
      "Krishna\n",
      "Mahanadi\n",
      "Mahi\n",
      "Narmada\n",
      "penanr\n",
      "Sabermati\n",
      "Subrnarekha\n",
      "Tapi\n",
      "West_flowing\n",
      "West_flowing_Kachh_sabermati\n"
     ]
    }
   ],
   "source": [
    "for item in basin_files:\n",
    "    basin_map = geopandas.read_file('/home/civil/phd/cez218606/Auto_calibration/New_shapefile/'+item+'.shp')\n",
    "    #basin_map = geopandas.read_file('/home/civil/phd/cez218606/LISF1/Results/shape_file/India_trans_new.shp')\n",
    "\n",
    "    lsm_r =  xr.open_dataset(\"/home/civil/phd/cez218606/LISF1/calibration/lis_input_files/lis_input_010.nc\")\n",
    "    lsm_r1 =  xr.open_dataset(\"/home/civil/phd/cez218606/LISF1/calibration/lis_input_files/lis_input_010.nc\")\n",
    "    lsm_r = config.reformat_LIS_param(lsm_r)\n",
    "    aa = lsm_r.LANDMASK\n",
    "    aa.rio.set_spatial_dims(x_dim=\"lon\", y_dim=\"lat\", inplace=True)\n",
    "    aa.rio.write_crs(\"epsg:4326\", inplace=True)\n",
    "    lsm_clip = aa.rio.clip(basin_map.geometry.apply(mapping), basin_map.crs, drop=True)\n",
    "    lsm_r = lsm_r.assign(LANDMASK = lsm_clip)\n",
    "    aaa = lsm_r.LANDMASK\n",
    "    aaa = aaa.fillna(0)\n",
    "    lsm_r = lsm_r.assign(LANDMASK = aaa)\n",
    "\n",
    "## Create east_west and north_south grid for the LIS domain \n",
    "    min_lon = 68.05\n",
    "    min_lat = 5.55\n",
    "    max_lon = 97.95\n",
    "    max_lat = 37.45\n",
    "    lat = np.arange(5.55,37.55,0.1).reshape(320,1).repeat(300,axis=1)\n",
    "    lon = np.arange(68.04999,97.95001 ,0.1).reshape(1,300).repeat(320,axis=0)\n",
    "\n",
    "    landmask = xr.Dataset({\n",
    "            'LANDMASK': xr.DataArray(\n",
    "                        data   = aaa,   # enter data here\n",
    "                        dims   = [\"north_south\",\"east_west\"],\n",
    "                        coords = {\"lon\":([\"north_south\",\"east_west\"],lon),\"lat\":([\"north_south\",\"east_west\"],lat)},\n",
    "                                    \n",
    "                )},   \n",
    "        )\n",
    "\n",
    "    landmask1 = landmask.drop('lon', dim=None)\n",
    "    landmask2 = landmask1.drop('lat', dim=None)\n",
    "    lsm_r1['LANDMASK'] = landmask2.LANDMASK\n",
    "    lsm_r1.to_netcdf('/home/civil/phd/cez218606/Auto_calibration/LIs_input_files_Basins/lis_input_010_'+item+'.nc')\n",
    "    #del lsm_r1\n",
    "    #del lsm_r\n",
    "    print(item)\n"
   ]
  },
  {
   "cell_type": "code",
   "execution_count": 10,
   "id": "4deb8f85",
   "metadata": {},
   "outputs": [
    {
     "data": {
      "text/plain": [
       "<matplotlib.collections.QuadMesh at 0x2adda3a55ff0>"
      ]
     },
     "execution_count": 10,
     "metadata": {},
     "output_type": "execute_result"
    },
    {
     "data": {
      "image/png": "[encoded data removed]",
      "text/plain": [
       "<Figure size 432x288 with 2 Axes>"
      ]
     },
     "metadata": {
      "needs_background": "light"
     },
     "output_type": "display_data"
    }
   ],
   "source": [
    "lsm =  xr.open_dataset(\"/home/civil/phd/cez218606/Auto_calibration/LIs_input_files_Basins/lis_input_010_Ganga.nc\")\n",
    "lsm.LANDMASK.plot()"
   ]
  },
  {
   "cell_type": "code",
   "execution_count": null,
   "id": "6cd341a6",
   "metadata": {},
   "outputs": [],
   "source": []
  }
 ],
 "metadata": {
  "kernelspec": {
   "display_name": "Python 3 (ipykernel)",
   "language": "python",
   "name": "python3"
  },
  "language_info": {
   "codemirror_mode": {
    "name": "ipython",
    "version": 3
   },
   "file_extension": ".py",
   "mimetype": "text/x-python",
   "name": "python",
   "nbconvert_exporter": "python",
   "pygments_lexer": "ipython3",
   "version": "3.10.2"
  }
 },
 "nbformat": 4,
 "nbformat_minor": 5
}
