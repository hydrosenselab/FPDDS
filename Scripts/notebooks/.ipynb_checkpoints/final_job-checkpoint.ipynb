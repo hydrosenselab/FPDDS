{
 "cells": [
  {
   "cell_type": "code",
   "execution_count": 3,
   "id": "53d66172",
   "metadata": {},
   "outputs": [
    {
     "name": "stdout",
     "output_type": "stream",
     "text": [
      "waiting\n",
      "waiting\n",
      "waiting\n"
     ]
    }
   ],
   "source": [
    "import os, sys, glob\n",
    "import time\n",
    "import shutil\n",
    "\n",
    "for j in range(0,30):\n",
    "    os.popen('qsub /home/civil/phd/cez218606/LISF1/PDDS/LIS_MERRA2_1.sh')\n",
    "    os.popen('qsub /home/civil/phd/cez218606/LISF1/PDDS/LIS_MERRA2_2.sh')\n",
    "    os.popen('qsub /home/civil/phd/cez218606/LISF1/PDDS/LIS_MERRA2_3.sh')\n",
    "    os.popen('qsub /home/civil/phd/cez218606/LISF1/PDDS/LIS_MERRA2_4.sh')\n",
    "\n",
    "    for i in range(0,10):\n",
    "            route_files1 = []\n",
    "            for file1 in sorted(glob.glob('/home/civil/phd/cez218606/LISF1/PDDS/output/LSM_MERRA2_1/ROUTING/*/*HIST*')) :\n",
    "                route_files1.append(file1)\n",
    "            route_files2 = []\n",
    "            for file2 in sorted(glob.glob('/home/civil/phd/cez218606/LISF1/PDDS/output/LSM_MERRA2_2/ROUTING/*/*HIST*')) :\n",
    "                route_files2.append(file2)\n",
    "            route_files3 = []\n",
    "            for file3 in sorted(glob.glob('/home/civil/phd/cez218606/LISF1/PDDS/output/LSM_MERRA2_3/ROUTING/*/*HIST*')) :\n",
    "                route_files3.append(file3)\n",
    "            route_files4 = []\n",
    "            for file4 in sorted(glob.glob('/home/civil/phd/cez218606/LISF1/PDDS/output/LSM_MERRA2_4/ROUTING/*/*HIST*')) :\n",
    "                route_files4.append(file4)\n",
    "            \n",
    "            lis_files = len(route_files1)+len(route_files2)+len(route_files3)+len(route_files4)\n",
    "            if lis_files == 236:\n",
    "                time.sleep(60)\n",
    "                os.popen('qsub /home/civil/phd/cez218606/LISF1/PDDS/Ostrich_run_PDDS.sh')\n",
    "                break\n",
    "            else:\n",
    "                print('waiting for LIS run completion')\n",
    "                time.sleep(300)\n",
    "    shutil.rmtree('/home/civil/phd/cez218606/LISF1/PDDS/output/LSM_MERRA2_1/ROUTING/200112')\n",
    "    shutil.rmtree('/home/civil/phd/cez218606/LISF1/PDDS/output/LSM_MERRA2_2/ROUTING/200112') \n",
    "    shutil.rmtree('/home/civil/phd/cez218606/LISF1/PDDS/output/LSM_MERRA2_3/ROUTING/200112') \n",
    "    shutil.rmtree('/home/civil/phd/cez218606/LISF1/PDDS/output/LSM_MERRA2_4/ROUTING/200112')\n",
    "    print('j iteration is completion')"
   ]
  },
  {
   "cell_type": "code",
   "execution_count": null,
   "id": "1042d0c5",
   "metadata": {},
   "outputs": [],
   "source": []
  }
 ],
 "metadata": {
  "kernelspec": {
   "display_name": "Python 3 (ipykernel)",
   "language": "python",
   "name": "python3"
  },
  "language_info": {
   "codemirror_mode": {
    "name": "ipython",
    "version": 3
   },
   "file_extension": ".py",
   "mimetype": "text/x-python",
   "name": "python",
   "nbconvert_exporter": "python",
   "pygments_lexer": "ipython3",
   "version": "3.10.2"
  }
 },
 "nbformat": 4,
 "nbformat_minor": 5
}
