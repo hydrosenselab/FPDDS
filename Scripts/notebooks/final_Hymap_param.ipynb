{
 "cells": [
  {
   "cell_type": "code",
   "execution_count": 1,
   "id": "8d327da4",
   "metadata": {},
   "outputs": [
    {
     "name": "stderr",
     "output_type": "stream",
     "text": [
      "/home/civil/phd/cez218606/anaconda3/envs/geo_env/lib/python3.10/site-packages/dask_jobqueue/core.py:20: FutureWarning: tmpfile is deprecated and will be removed in a future release. Please use dask.utils.tmpfile instead.\n",
      "  from distributed.utils import tmpfile\n",
      "/home/civil/phd/cez218606/anaconda3/envs/geo_env/lib/python3.10/site-packages/xarray/backends/cfgrib_.py:27: UserWarning: Failed to load cfgrib - most likely there is a problem accessing the ecCodes library. Try `import cfgrib` to get the full error message\n",
      "  warnings.warn(\n"
     ]
    }
   ],
   "source": [
    "## Data handlers\n",
    "from dask_jobqueue import *\n",
    "from dask.distributed import *\n",
    "import xarray as xr\n",
    "import numpy as np\n",
    "import pandas as pd\n",
    "import datetime\n",
    "import netCDF4 \n",
    "from dask import delayed\n",
    "from dask import compute\n",
    "from dask.diagnostics import*\n",
    "from tqdm import tqdm\n",
    "import dask\n",
    "## Plots\n",
    "import matplotlib.pyplot as plt\n",
    "import matplotlib.dates as mdates\n",
    "import matplotlib.mlab as mlab\n",
    "import matplotlib.colors as mcl\n",
    "from mpl_toolkits import axes_grid1\n",
    "import seaborn as sns\n",
    "import matplotlib.dates as mdates\n",
    "import geopandas\n",
    "import rioxarray\n",
    "from shapely.geometry import mapping\n",
    "## Global config\n",
    "import os, sys, glob\n",
    "module_path = os.path.abspath(os.path.join('..'))\n",
    "if module_path not in sys.path: \n",
    "    sys.path.append(module_path)\n",
    "import config \n",
    "import gc\n",
    "import warnings\n",
    "warnings.filterwarnings('ignore')"
   ]
  },
  {
   "cell_type": "code",
   "execution_count": 2,
   "id": "f71a30f8",
   "metadata": {},
   "outputs": [],
   "source": [
    "mask =  geopandas.read_file(\"/home/civil/phd/cez218606/Auto_calibration/Final/Ganga_PDDS/output/pyLISF/shapefiles/Ganga.shp\")\n"
   ]
  },
  {
   "cell_type": "code",
   "execution_count": 3,
   "id": "1401baea",
   "metadata": {},
   "outputs": [
    {
     "data": {
      "text/plain": [
       "<AxesSubplot:>"
      ]
     },
     "execution_count": 3,
     "metadata": {},
     "output_type": "execute_result"
    },
    {
     "data": {
      "image/png": "[encoded data removed]",
      "text/plain": [
       "<Figure size 432x288 with 1 Axes>"
      ]
     },
     "metadata": {
      "needs_background": "light"
     },
     "output_type": "display_data"
    }
   ],
   "source": [
    "mask.plot()"
   ]
  },
  {
   "cell_type": "code",
   "execution_count": 4,
   "id": "8745e9b1",
   "metadata": {},
   "outputs": [],
   "source": [
    "    \n",
    "PARM = pd.read_csv('/home/civil/phd/cez218606/Auto_calibration/Final/Ganga_PDDS/NoahMP_InputFiles/best_parm/PARAMS')\n",
    "ds = xr.open_dataset(\"/home/civil/phd/cez218606/Auto_calibration/Final/Ganga_PDDS/lis_input_files/lis_input_ildas_noahmp401_010.nc\")\n",
    "ds1 = xr.open_dataset(\"/home/civil/phd/cez218606/Auto_calibration/Final/Ganga_PDDS/lis_input_files/lis_input_ildas_noahmp401_010.nc\")\n",
    "mask =  geopandas.read_file(\"/home/civil/phd/cez218606/Auto_calibration/Final/Ganga_PDDS/output/pyLISF/shapefiles/Ganga.shp\")\n",
    "\n",
    "a = config.reformat_LIS_output(ds)\n",
    "aa = a.LANDMASK\n",
    "bb = a.DOMAINMASK\n",
    "cc = a.HYMAP_runoff_time_delay\n",
    "dd = a.HYMAP_river_roughness\n",
    "\n",
    "aa.rio.set_spatial_dims(x_dim=\"lon\", y_dim=\"lat\", inplace=True)\n",
    "aa.rio.write_crs(\"epsg:4326\", inplace=True)\n",
    "lsm_clip = aa.rio.clip(mask.geometry.apply(mapping), mask.crs, drop=True)\n",
    "bb.rio.set_spatial_dims(x_dim=\"lon\", y_dim=\"lat\", inplace=True)\n",
    "bb.rio.write_crs(\"epsg:4326\", inplace=True)\n",
    "lsm_clip1 = bb.rio.clip(mask.geometry.apply(mapping), mask.crs, drop=True)\n",
    "cc.rio.set_spatial_dims(x_dim=\"lon\", y_dim=\"lat\", inplace=True)\n",
    "cc.rio.write_crs(\"epsg:4326\", inplace=True)\n",
    "lsm_clip2 = cc.rio.clip(mask.geometry.apply(mapping), mask.crs, drop=True)\n",
    "dd.rio.set_spatial_dims(x_dim=\"lon\", y_dim=\"lat\", inplace=True)\n",
    "dd.rio.write_crs(\"epsg:4326\", inplace=True)\n",
    "lsm_clip3 = dd.rio.clip(mask.geometry.apply(mapping), mask.crs, drop=True)\n",
    "\n",
    "a = a.assign(LANDMASK = lsm_clip)\n",
    "a = a.assign(DOMAINMASK = lsm_clip1)\n",
    "a = a.assign(HYMAP_runoff_time_delay = cc)\n",
    "a = a.assign(HYMAP_river_roughness = dd)\n",
    "\n",
    "aaa = a.LANDMASK\n",
    "aaa1 = a.DOMAINMASK\n",
    "aaa2 = a.HYMAP_runoff_time_delay*PARM.Parameters[0]\n",
    "aaa3 = a.HYMAP_river_roughness*PARM.Parameters[1]\n",
    "\n",
    "aaa = aaa.fillna(0)\n",
    "aaa1 = aaa1.fillna(0)\n",
    "\n",
    "## Create east_west and north_south grid for the LIS domain \n",
    "min_lon = 64.55\n",
    "min_lat = 5.05\n",
    "max_lon = 99.95\n",
    "max_lat = 37.95\n",
    "lat = np.arange(5.0499,37.95,0.1).reshape(330,1).repeat(355,axis=1)\n",
    "lon = np.arange(64.5499,99.95,0.1).reshape(1,355).repeat(330,axis=0)\n",
    "\n",
    "landmask = xr.Dataset({\n",
    "            'LANDMASK': xr.DataArray(\n",
    "                        data   = aaa,   # enter data here\n",
    "                        dims   = [\"north_south\",\"east_west\"],\n",
    "                        coords = {\"lon\":([\"north_south\",\"east_west\"],lon),\"lat\":([\"north_south\",\"east_west\"],lat)},\n",
    "\n",
    "                )},   \n",
    "        )\n",
    "\n",
    "\n",
    "\n",
    "\n",
    "domainmask = xr.Dataset({\n",
    "            'DOMAINMASK': xr.DataArray(\n",
    "                        data   = aaa1,   # enter data here\n",
    "                        dims   = [\"north_south\",\"east_west\"],\n",
    "                        coords = {\"lon\":([\"north_south\",\"east_west\"],lon),\"lat\":([\"north_south\",\"east_west\"],lat)},\n",
    "\n",
    "                )},   \n",
    "        )\n",
    "\n",
    "\n",
    "\n",
    "\n",
    "\n",
    "\n",
    "bedrock = xr.Dataset({\n",
    "            'HYMAP_runoff_time_delay': xr.DataArray(\n",
    "                        data   = aaa2,   # enter data here\n",
    "                        dims   = [\"north_south\",\"east_west\"],\n",
    "                        coords = {\"lon\":([\"north_south\",\"east_west\"],lon),\"lat\":([\"north_south\",\"east_west\"],lat)},\n",
    "\n",
    "                )},   \n",
    "        )\n",
    "decay = xr.Dataset({\n",
    "            'HYMAP_river_roughness': xr.DataArray(\n",
    "                        data   = aaa3,   # enter data here\n",
    "                        dims   = [\"north_south\",\"east_west\"],\n",
    "                        coords = {\"lon\":([\"north_south\",\"east_west\"],lon),\"lat\":([\"north_south\",\"east_west\"],lat)},\n",
    "\n",
    "                )},   \n",
    "        )\n",
    "\n",
    "\n",
    "landmask1 = landmask.drop('lon', dim=None)\n",
    "landmask2 = landmask1.drop('lat', dim=None)\n",
    "ds1['LANDMASK'] = landmask2.LANDMASK\n",
    "\n",
    "\n",
    "\n",
    "domainmask1 = domainmask.drop('lon', dim=None)\n",
    "domainmask2 = domainmask1.drop('lat', dim=None)\n",
    "ds1['DOMAINMASK'] = domainmask2.DOMAINMASK\n",
    "\n",
    "\n",
    "\n",
    "bedrock1 = bedrock.drop('lon', dim=None)\n",
    "bedrock2 = bedrock1.drop('lat', dim=None)\n",
    "ds1['HYMAP_runoff_time_delay'] = bedrock2.HYMAP_runoff_time_delay\n",
    "\n",
    "decay1 = decay.drop('lon', dim=None)\n",
    "decay2 = decay1.drop('lat', dim=None)\n",
    "ds1['HYMAP_river_roughness'] = decay2.HYMAP_river_roughness\n",
    "\n",
    "\n",
    "ds1.to_netcdf('/home/civil/phd/cez218606/Auto_calibration/Final/Ganga_PDDS/lis_input_files/lis_input_ildas_noahmp401_010_Ganga_final.nc')\n"
   ]
  },
  {
   "cell_type": "code",
   "execution_count": null,
   "id": "5220199f",
   "metadata": {},
   "outputs": [],
   "source": []
  }
 ],
 "metadata": {
  "kernelspec": {
   "display_name": "Python 3 (ipykernel)",
   "language": "python",
   "name": "python3"
  },
  "language_info": {
   "codemirror_mode": {
    "name": "ipython",
    "version": 3
   },
   "file_extension": ".py",
   "mimetype": "text/x-python",
   "name": "python",
   "nbconvert_exporter": "python",
   "pygments_lexer": "ipython3",
   "version": "3.10.2"
  }
 },
 "nbformat": 4,
 "nbformat_minor": 5
}
